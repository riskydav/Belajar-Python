{
  "nbformat": 4,
  "nbformat_minor": 0,
  "metadata": {
    "colab": {
      "name": "Data Structure and Algorithm.ipynb",
      "provenance": [],
      "authorship_tag": "ABX9TyNdsVHxGl7qcYFgjpNVqcQZ",
      "include_colab_link": true
    },
    "kernelspec": {
      "name": "python3",
      "display_name": "Python 3"
    },
    "language_info": {
      "name": "python"
    }
  },
  "cells": [
    {
      "cell_type": "markdown",
      "metadata": {
        "id": "view-in-github",
        "colab_type": "text"
      },
      "source": [
        "<a href=\"https://colab.research.google.com/github/riskydavid25/Belajar-Python/blob/main/Data_Structure_and_Algorithm.ipynb\" target=\"_parent\"><img src=\"https://colab.research.google.com/assets/colab-badge.svg\" alt=\"Open In Colab\"/></a>"
      ]
    },
    {
      "cell_type": "markdown",
      "metadata": {
        "id": "7Q8qwIO_o7Ff"
      },
      "source": [
        ""
      ]
    },
    {
      "cell_type": "markdown",
      "metadata": {
        "id": "Pm8k5KvzpEp5"
      },
      "source": [
        "# **Data Structure and Algorithm**\n",
        "\n",
        "Pada pembelajaran data structure dan algorithm ini kita akan menggunakan google colab untuk editor sekaligus untuk run programnya."
      ]
    },
    {
      "cell_type": "markdown",
      "metadata": {
        "id": "EbQS5EBypLqW"
      },
      "source": [
        "## Kendali program, lanjutan\n",
        "1. if bersarang\n",
        "2. pass\n",
        "3. defining function\n",
        "4. break & continue"
      ]
    },
    {
      "cell_type": "markdown",
      "metadata": {
        "id": "ondDxCy5pOtf"
      },
      "source": [
        "1. if bersarang\n",
        "\n",
        "tatemen seleksi if…else bersarang untuk beberapa kasus dilakukan dengan menempatkan statemen if…else didalam statemen if…else lain.\n"
      ]
    },
    {
      "cell_type": "code",
      "metadata": {
        "colab": {
          "base_uri": "https://localhost:8080/"
        },
        "id": "e3nOlDUEpWnt",
        "outputId": "97a432d3-df14-4429-c23a-d9e5b5b1bce3"
      },
      "source": [
        "# Ubah saja variabel a dan b sesuai dengan kebutuhan untuk contoh lainnya\n",
        "\n",
        "a = 10\n",
        "b = 10\n",
        "if(a == b):\n",
        "  if(a != 4):\n",
        "      print(\"Nilai A sama dengan B namun bukan angka 4\")\n",
        "  else:\n",
        "      print(\"Nilai A sama dengan B\")\n",
        "elif(a > b):\n",
        "    print(\"Nilai A lebih besar dari B\")\n",
        "else:\n",
        "    print(\"Nilai A lebih kecil dari B\")"
      ],
      "execution_count": 9,
      "outputs": [
        {
          "output_type": "stream",
          "name": "stdout",
          "text": [
            "Nilai A sama dengan B namun bukan angka 4\n"
          ]
        }
      ]
    },
    {
      "cell_type": "code",
      "metadata": {
        "colab": {
          "base_uri": "https://localhost:8080/",
          "height": 133
        },
        "id": "CPrHTFlRqoiI",
        "outputId": "7e0d1165-1073-4f53-c59d-3296a4bc77c6"
      },
      "source": [
        "#Ubah saja varibel a dan b sesuai keutuhan\n",
        "a = 3\n",
        "b = 5\n",
        "if (a == b):\n",
        "   if (a != 3):\n",
        "      print(\"Nilai A sama dengan B namun bukan angka 3\")\n",
        "    else:\n",
        "      print(\"Nilai A sama dengan B\")\n",
        "elif (a < b):\n",
        "    print(\"Nilai A lebih besar dari B\")\n",
        "else:\n",
        "    print(\"Nilai A lebih kecil dari B\")"
      ],
      "execution_count": 13,
      "outputs": [
        {
          "output_type": "error",
          "ename": "IndentationError",
          "evalue": "ignored",
          "traceback": [
            "\u001b[0;36m  File \u001b[0;32m\"<ipython-input-13-cf142133b411>\"\u001b[0;36m, line \u001b[0;32m7\u001b[0m\n\u001b[0;31m    else:\u001b[0m\n\u001b[0m         ^\u001b[0m\n\u001b[0;31mIndentationError\u001b[0m\u001b[0;31m:\u001b[0m unindent does not match any outer indentation level\n"
          ]
        }
      ]
    },
    {
      "cell_type": "markdown",
      "metadata": {
        "id": "lExqbRPHswSe"
      },
      "source": [
        "2. pass\n",
        "\n",
        "Statemen pass tidak melakukan proses apa-apa. Statement ini dapat digunakan ketika pernyataan diperlukan secara sintaksis tetapi program tidak memerlukan Tindakan apapun.\n"
      ]
    },
    {
      "cell_type": "code",
      "metadata": {
        "colab": {
          "base_uri": "https://localhost:8080/"
        },
        "id": "R8xhbZ4ps14N",
        "outputId": "6bd8d246-de0c-40ce-8d26-f77e7696f1b8"
      },
      "source": [
        "#Ubah saja variabel x sesuai dengan kebutuhan untuk contoh lainnya\n",
        "x = 2\n",
        "\n",
        "if (x < 5):\n",
        "  x = 3\n",
        "  print(x)\n",
        "else:\n",
        "  pass"
      ],
      "execution_count": 12,
      "outputs": [
        {
          "output_type": "stream",
          "name": "stdout",
          "text": [
            "3\n"
          ]
        }
      ]
    },
    {
      "cell_type": "markdown",
      "metadata": {
        "id": "8v_GRYW092Ju"
      },
      "source": [
        "3. defining function\n",
        "\n",
        "Pernyataan def  merupakan sebuah definisi fungsi. Pernyataan def harus diikuti dengan nama fungsi dan daftar parameter formal dalam kurung. Pernyataan-pernyataan yang membentuk badan fungsi dimulai pada baris berikutnya, dan harus diindentasi (penulisan baris berikutnya harus menjorok kedalam satu tab).\n"
      ]
    },
    {
      "cell_type": "code",
      "metadata": {
        "colab": {
          "base_uri": "https://localhost:8080/"
        },
        "id": "b_vs2KIF97nM",
        "outputId": "65edda03-e4e3-44fa-ff28-663d3e3119c8"
      },
      "source": [
        "#Pada baris kedua setelah baris fungsi def maka harus menjorok 1 tab kedalam\n",
        "\n",
        "def fib(n): #write Fibonacci series up to n\n",
        "  a, b = 0, 1 #Pada baris kedua setelah baris fungsi def maka harus menjorok 1 tab kedalam\n",
        "  while a < n:\n",
        "    print(a, end=' ')\n",
        "    a, b = b, a+b\n",
        "\n",
        "#Now call the function we just defined:\n",
        "fib(2000)"
      ],
      "execution_count": 14,
      "outputs": [
        {
          "output_type": "stream",
          "name": "stdout",
          "text": [
            "0 1 1 2 3 5 8 13 21 34 55 89 144 233 377 610 987 1597 "
          ]
        }
      ]
    },
    {
      "cell_type": "markdown",
      "metadata": {
        "id": "bdN-8fSF_Snh"
      },
      "source": [
        "4. Break\n",
        "\n",
        "Pernyataan break, sama seperti dalam Bahasa C, yaitu digunakan untuk keluar dari looping for atau looping while.\n"
      ]
    },
    {
      "cell_type": "code",
      "metadata": {
        "colab": {
          "base_uri": "https://localhost:8080/"
        },
        "id": "PeQC-I30_WS5",
        "outputId": "fff8ca8f-5a95-49c1-d03a-c7501c1f776d"
      },
      "source": [
        "for n in range(2, 10):\n",
        "  for x in range(2, n):\n",
        "    if n % x == 0:\n",
        "      print(n, 'sama dengan', x, '*',n//x)\n",
        "      break\n",
        "    else:\n",
        "      # loop fell through without finding a factor\n",
        "      print(n, 'ini adalah sebuah bilangan prima')"
      ],
      "execution_count": 15,
      "outputs": [
        {
          "output_type": "stream",
          "name": "stdout",
          "text": [
            "3 ini adalah sebuah bilangan prima\n",
            "4 sama dengan 2 * 2\n",
            "5 ini adalah sebuah bilangan prima\n",
            "5 ini adalah sebuah bilangan prima\n",
            "5 ini adalah sebuah bilangan prima\n",
            "6 sama dengan 2 * 3\n",
            "7 ini adalah sebuah bilangan prima\n",
            "7 ini adalah sebuah bilangan prima\n",
            "7 ini adalah sebuah bilangan prima\n",
            "7 ini adalah sebuah bilangan prima\n",
            "7 ini adalah sebuah bilangan prima\n",
            "8 sama dengan 2 * 4\n",
            "9 ini adalah sebuah bilangan prima\n",
            "9 sama dengan 3 * 3\n"
          ]
        }
      ]
    },
    {
      "cell_type": "markdown",
      "metadata": {
        "id": "BK8YdCs5ATPA"
      },
      "source": [
        "5. Break\n",
        "\n",
        "Sedangkan continue untuk melanjutkan ke iterasi berikutnya dari sebuah loop.\n"
      ]
    },
    {
      "cell_type": "code",
      "metadata": {
        "colab": {
          "base_uri": "https://localhost:8080/"
        },
        "id": "SGi9wKMzAZRu",
        "outputId": "fc49fa2a-f6fc-4e56-f586-477de1a2dfc6"
      },
      "source": [
        "for num in range(2, 10):\n",
        "  if num % 2 == 0:\n",
        "    print(\"Nomor genap ditemukan\", num)\n",
        "    continue\n",
        "    print(\"Nomor ganjil ditemukan\", num)"
      ],
      "execution_count": 18,
      "outputs": [
        {
          "output_type": "stream",
          "name": "stdout",
          "text": [
            "Nomor genap ditemukan 2\n",
            "Nomor genap ditemukan 4\n",
            "Nomor genap ditemukan 6\n",
            "Nomor genap ditemukan 8\n"
          ]
        }
      ]
    },
    {
      "cell_type": "markdown",
      "metadata": {
        "id": "M3w0k8jhA1_M"
      },
      "source": [
        "## Object-Oriented Programming (OOP) - Intro\n",
        "\n",
        "Pemrograman berorientasi objek atau dalam bahasa inggris disebut Object Oriented Programming (OOP) adalah paradigma atau teknik pemrograman di mana semua hal dalam program dimodelkan seperti objek dalam dunia nyata. Objek di dunia nyata memiliki ciri atau attribut dan juga aksi atau kelakuan (behaviour).\n"
      ]
    },
    {
      "cell_type": "code",
      "metadata": {
        "id": "06GgiSeQA5KA"
      },
      "source": [
        "class Segitiga:\n",
        "  def __init__(self, alas, tinggi):\n",
        "    self.alas = alas \n",
        "    self.tinggi = tinggi \n",
        "\n",
        "    def get_luas(self):\n",
        "      return 0.5 * self.alas * self.tinggi\n",
        "\n",
        "      segitiga1 = Segitiga(5, 10)\n",
        "      segitiga2 = Segitiga(10, 10)\n",
        "\n",
        "      print('luas segitiga1:', segitiga1.get_luas())\n",
        "      print('luas segitiga2:', segitiga2.get_luas())"
      ],
      "execution_count": 20,
      "outputs": []
    },
    {
      "cell_type": "markdown",
      "metadata": {
        "id": "SQQy3Mf_Djre"
      },
      "source": [
        "# Algoritma\n",
        "\n",
        "1. Tree Traversal Algorithm\n",
        "2. Sorting Algorithm\n",
        "3. Searching Algorithm"
      ]
    },
    {
      "cell_type": "markdown",
      "metadata": {
        "id": "srYgLN7QDnE3"
      },
      "source": [
        "## 1. Tree Traversal Algorithm\n",
        "### a. In-Order Traversal\n",
        "### b. Pre-Order Traversal\n",
        "### c. Post-Order Traversal"
      ]
    },
    {
      "cell_type": "code",
      "metadata": {
        "id": "WOy7tgQVDq39"
      },
      "source": [
        "# create the class Node and the attributes\n",
        "class Node:\n",
        "    def __init__(self, letter):\n",
        "      self.childleft = None\n",
        "      self.childright = None\n",
        "      self.nodedata = letter\n",
        "\n",
        "# create the nodes for the tree\n",
        "root = Node('A')\n",
        "root.childleft = Node('B')\n",
        "root.childright = Node('C')\n",
        "root.childleft.childleft = Node('D')\n",
        "root.childright.childright = Node('E')"
      ],
      "execution_count": 21,
      "outputs": []
    },
    {
      "cell_type": "markdown",
      "metadata": {
        "id": "mq0nBdnzEy2s"
      },
      "source": [
        "A. In-Order Traversal"
      ]
    },
    {
      "cell_type": "code",
      "metadata": {
        "colab": {
          "base_uri": "https://localhost:8080/"
        },
        "id": "DamtwK53E3OM",
        "outputId": "13327d33-ea3c-4913-f33d-674995db8d26"
      },
      "source": [
        "def InOrd(root):\n",
        "    if root:\n",
        "          InOrd(root.childleft)\n",
        "          print(root.nodedata)\n",
        "          InOrd(root.childright)\n",
        "InOrd(root)"
      ],
      "execution_count": 22,
      "outputs": [
        {
          "output_type": "stream",
          "name": "stdout",
          "text": [
            "D\n",
            "B\n",
            "A\n",
            "C\n",
            "E\n"
          ]
        }
      ]
    },
    {
      "cell_type": "markdown",
      "metadata": {
        "id": "JgCR-tEzFU1_"
      },
      "source": [
        "B. Pre-Order Traversal"
      ]
    },
    {
      "cell_type": "code",
      "metadata": {
        "colab": {
          "base_uri": "https://localhost:8080/"
        },
        "id": "An9eEF78FX7H",
        "outputId": "4a38f613-87d9-48c9-9324-d2d95d44e8df"
      },
      "source": [
        "def PreOrd(root):\n",
        "    if root:\n",
        "      print(root.nodedata)\n",
        "      PreOrd(root.childleft)\n",
        "      PreOrd(root.childright)\n",
        "PreOrd(root)"
      ],
      "execution_count": 23,
      "outputs": [
        {
          "output_type": "stream",
          "name": "stdout",
          "text": [
            "A\n",
            "B\n",
            "D\n",
            "C\n",
            "E\n"
          ]
        }
      ]
    },
    {
      "cell_type": "markdown",
      "metadata": {
        "id": "EPIS_hFwF1C-"
      },
      "source": [
        "C. Post-Order TraversalC"
      ]
    },
    {
      "cell_type": "code",
      "metadata": {
        "colab": {
          "base_uri": "https://localhost:8080/",
          "height": 133
        },
        "id": "CtCiiYRcF4Nw",
        "outputId": "38f93667-fc0b-4f9c-d33d-3b80d1b180bf"
      },
      "source": [
        "  PostOrd(root)def PostOrd(root):\n",
        "if root:\n",
        "\n",
        "  PostOrd(root.childleft)\n",
        "  PostOrd(root.childright)\n",
        "  print(root.nodedata)"
      ],
      "execution_count": 27,
      "outputs": [
        {
          "output_type": "error",
          "ename": "SyntaxError",
          "evalue": "ignored",
          "traceback": [
            "\u001b[0;36m  File \u001b[0;32m\"<ipython-input-27-3999173fb6d9>\"\u001b[0;36m, line \u001b[0;32m1\u001b[0m\n\u001b[0;31m    PostOrd(root)def PostOrd(root):\u001b[0m\n\u001b[0m                   ^\u001b[0m\n\u001b[0;31mSyntaxError\u001b[0m\u001b[0;31m:\u001b[0m invalid syntax\n"
          ]
        }
      ]
    },
    {
      "cell_type": "markdown",
      "metadata": {
        "id": "YpxT4G1sGqHz"
      },
      "source": [
        "## 2. Sorting Algorithm\n",
        "### a. Merge Sort\n",
        "### b. Bubble Sort"
      ]
    },
    {
      "cell_type": "markdown",
      "metadata": {
        "id": "kjgWa88tGt8P"
      },
      "source": [
        "### Contoh dari Merge Sort\n",
        "\n",
        "Masukkan nilai input misalnya 12 1 6 3 9 20 50 (kasih spasi setiap nilai)"
      ]
    },
    {
      "cell_type": "code",
      "metadata": {
        "colab": {
          "base_uri": "https://localhost:8080/",
          "height": 133
        },
        "id": "CMge0LFAG2-j",
        "outputId": "ad10c5a0-7aba-48be-8a32-9255eb7a79e5"
      },
      "source": [
        "#Masukkan nilai input misalnya 12 1 6 3 9 20 50 (kasih spasi setiap nilai)\n",
        "\n",
        "def merge_sort(ourlist, left, right): #left and right corresponds to starting and ending element of ourlist\n",
        "    if right -left > 1: #check if the length of ourlist is greater than 1\n",
        "        middle = (left + right) //  2 #we divide the length in two parts\n",
        "        merge_sort(ourlist, left, middle) #recursevely I call the merge_sort function from left to middle\n",
        "        merge_sort(ourlist, middle, right) #then from middle to right\n",
        "        merge_list(ourlist, left, middle, right) ## finally I create ourlist in complete form(left, middle and right)\n",
        "\n",
        "def merge_list(ourlist, left, middle, right): #I create the function merged_list\n",
        "    leftlist = ourlist[left:middle] #I define the leftlist\n",
        "    rightlist = ourlist[middle:right] #I define the right list\n",
        "    k = left #it is the temporary variable\n",
        "    i = 0 #this variable that corespond to the index of the first group help me to iterate from left to right\n",
        "    j = 0 #this variable that corespond to the index of the second group help me to iterate from left to right\n",
        "    while ( left + i < middle and middle + j < right): #the condition that I want to achive before to stop my iteration\n",
        "        if (leftlist[i] <= rightlist[j]):#if the element in the leftlist is less or equal to the element in the rightlist\n",
        "            ourlist[k] = leftlist[i] #In this case I fill the value of the leftlist in ourlist with index k\n",
        "            i = i + 1 #now I have to increment the value by 1\n",
        "        else: #if the above codition is not match\n",
        "            ourlist[k] = rightlist[j] #I fill the rightlist element in ourlist with index k\n",
        "            j = j + 1 #I increment index j by 1\n",
        "        k = k + 1 #now I increment the value of k by 1\n",
        "    if left + i < middle: #check if left + i is less than middle\n",
        "        ourlist[k] = leftlist[i] #I place all elements of my leftlist in ourlist\n",
        "        i = i + 1\n",
        "        k = k + 1\n",
        "    else: #otherwise if my leftlist is empty\n",
        "        while k < right: #untill k is less then right \n",
        "            ourlist[k] = rightlist[j] #I place all elements of rightlist in ourlist\n",
        "            j = j + 1\n",
        "            k = k + 1\n",
        "\n",
        "ourlist = input('input - masukkan nilai yang belum di sorting, kasih spasi pada setiap nilai, misalnya 1 23 6 5: ').split() #insert the input and split\n",
        "ourlist = [int(x), for x in ourlist]\n",
        "merge_sort(ourlist, 0, len(ourlist))\n",
        "print('output - nilai2 yang sudah di sorting: ')\n",
        "print(ourlist)"
      ],
      "execution_count": 28,
      "outputs": [
        {
          "output_type": "error",
          "ename": "SyntaxError",
          "evalue": "ignored",
          "traceback": [
            "\u001b[0;36m  File \u001b[0;32m\"<ipython-input-28-5a26eeb2366b>\"\u001b[0;36m, line \u001b[0;32m35\u001b[0m\n\u001b[0;31m    ourlist = [int(x), for x in ourlist]\u001b[0m\n\u001b[0m                         ^\u001b[0m\n\u001b[0;31mSyntaxError\u001b[0m\u001b[0;31m:\u001b[0m invalid syntax\n"
          ]
        }
      ]
    },
    {
      "cell_type": "markdown",
      "metadata": {
        "id": "b3xjExigOJpK"
      },
      "source": [
        "### Contoh dari Buuble Sort"
      ]
    },
    {
      "cell_type": "code",
      "metadata": {
        "colab": {
          "base_uri": "https://localhost:8080/"
        },
        "id": "Zj19doQaONai",
        "outputId": "a2720829-7985-48d2-ca0c-295df2d3df40"
      },
      "source": [
        "# Python program for implementation of Bubble Sort \n",
        "\n",
        "def bubbleSort(arr):\n",
        "    n = len(arr)\n",
        "\n",
        "    #Traverse through all array elements\n",
        "    for i in range(n-1):\n",
        "    #range(n) also work but outer loop will repeat one time more than needed.\n",
        "\n",
        "        #Last i elements are already in place\n",
        "        for j in range(0, n-i-1):\n",
        "\n",
        "            # traverse the array from 0 to n-i-1\n",
        "            # Swap if the element found is greater\n",
        "            # than the next element\n",
        "            if arr[j] > arr[j + 1]:\n",
        "                arr[j], arr[j + 1] = arr[j + 1], arr[j]\n",
        "\n",
        "# Driver code to test above\n",
        "arr = [64, 34, 25, 12, 22, 11, 90] # Nilai dalam array bisa di ubah sesuai keinginan\n",
        "\n",
        "bubbleSort(arr)\n",
        "\n",
        "print (\"Sorted array is:\")\n",
        "for i in range(len(arr)):\n",
        "    print (\"% d\" % arr[i]),"
      ],
      "execution_count": 29,
      "outputs": [
        {
          "output_type": "stream",
          "name": "stdout",
          "text": [
            "Sorted array is:\n",
            " 11\n",
            " 12\n",
            " 22\n",
            " 25\n",
            " 34\n",
            " 64\n",
            " 90\n"
          ]
        }
      ]
    },
    {
      "cell_type": "markdown",
      "metadata": {
        "id": "k4FmvOXZSPK-"
      },
      "source": [
        "## 3. Searching Algorithm\n",
        "### a. Linier Seacrh\n",
        "### b. Binary Search"
      ]
    },
    {
      "cell_type": "markdown",
      "metadata": {
        "id": "zzJIJRwCSWFl"
      },
      "source": [
        "### Contoh Linier Search"
      ]
    },
    {
      "cell_type": "code",
      "metadata": {
        "colab": {
          "base_uri": "https://localhost:8080/",
          "height": 36
        },
        "id": "rMYlvbOaSZRG",
        "outputId": "a654f510-876c-4f29-c252-1a38beb67c91"
      },
      "source": [
        "# Nilai yang dicari didalam list, bisa dirumah sesuai kebutuhan untuk testing hasil lainnya\n",
        "nilai = 4\n",
        "\n",
        "def lin_search(ourlist, key):\n",
        "\n",
        "    for index in range(0, len(ourlist)):\n",
        "        if (ourlist[index] == key):\n",
        "          print(\"Nilai ditemukan\")\n",
        "          return index\n",
        "    else:\n",
        "        return \"Nilai tidak ditemukan\"\n",
        "\n",
        "ourlist = [15, 1, 9, 3]\n",
        "\n",
        "lin_search(ourlist, nilai)"
      ],
      "execution_count": 30,
      "outputs": [
        {
          "output_type": "execute_result",
          "data": {
            "application/vnd.google.colaboratory.intrinsic+json": {
              "type": "string"
            },
            "text/plain": [
              "'Nilai tidak ditemukan'"
            ]
          },
          "metadata": {},
          "execution_count": 30
        }
      ]
    },
    {
      "cell_type": "markdown",
      "metadata": {
        "id": "LegUAdvOTZbT"
      },
      "source": [
        "### Contoh Binary Search"
      ]
    },
    {
      "cell_type": "code",
      "metadata": {
        "colab": {
          "base_uri": "https://localhost:8080/"
        },
        "id": "pRhHWvjVTjAG",
        "outputId": "57d4fb20-e213-41b4-bd08-cc3e7cea2b98"
      },
      "source": [
        "# Nilai dari variabel nilai_a dan nilai_b yang dicari didalam list, bisa dirubah sesuai kebutuhan untuk testing hasil lainnya\n",
        "\n",
        "nilai_a = 17\n",
        "nilai_b = 3\n",
        "\n",
        "def bin_search(ourlist, key):\n",
        "    left = 0 #I assign left position to zero\n",
        "    right = len(ourlist) -1 # I assign right position by defining the length of ourlist minus one \n",
        "    matched = False\n",
        "    while(left<=right and not matched): # the loop will continue untill the left element is less \n",
        "                                        # or equal to the right element and the matched is True\n",
        "        mid = (left+right)//2 # I find the position of the middle element\n",
        "        if ourlist[mid] == key: # if the middle element correponds to the key element\n",
        "              matched = True\n",
        "        else:  #otherwise \n",
        "            if key < ourlist[mid]: # if key element is less than the middle element\n",
        "                right = mid - 1 #I assign the position of the right element as mid - 1\n",
        "            else: #otherwise\n",
        "                left = mid + 1 #left position will become the middle position plus 1\n",
        "    return matched\n",
        "\n",
        "print(bin_search([1, 3, 9, 15], nilai_a))\n",
        "print(bin_search([1, 3, 9, 15], nilai_b))"
      ],
      "execution_count": 31,
      "outputs": [
        {
          "output_type": "stream",
          "name": "stdout",
          "text": [
            "False\n",
            "True\n"
          ]
        }
      ]
    },
    {
      "cell_type": "code",
      "metadata": {
        "colab": {
          "base_uri": "https://localhost:8080/"
        },
        "id": "Z-26r0oiVvMS",
        "outputId": "307890c2-81e4-44cb-f54e-ac8a72812f93"
      },
      "source": [
        "list1 = (\"pynative\")\n",
        "print(list1[1:3])"
      ],
      "execution_count": 32,
      "outputs": [
        {
          "output_type": "stream",
          "name": "stdout",
          "text": [
            "yn\n"
          ]
        }
      ]
    }
  ]
}